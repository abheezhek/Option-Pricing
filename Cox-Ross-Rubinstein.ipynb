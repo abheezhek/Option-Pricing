{
 "cells": [
  {
   "cell_type": "code",
   "execution_count": 98,
   "metadata": {},
   "outputs": [],
   "source": [
    "import numpy as np"
   ]
  },
  {
   "cell_type": "code",
   "execution_count": 93,
   "metadata": {},
   "outputs": [],
   "source": [
    "#Initialize the variables\n",
    "S = 500\n",
    "K=520\n",
    "r=0.05\n",
    "sigma=0.2\n",
    "T=1\n",
    "N=100\n",
    "dt = T/N\n",
    "\n",
    "#Cox-Ross-Rubinstein \n",
    "u = np.exp(sigma * np.sqrt(dt))\n",
    "d = np.exp(-sigma * np.sqrt(dt))\n",
    "p = (np.exp(r*dt) - d)/(u - d)"
   ]
  },
  {
   "cell_type": "code",
   "execution_count": 94,
   "metadata": {},
   "outputs": [],
   "source": [
    "C = [[0 for i in range(N+1)] for j in range(N+1)]"
   ]
  },
  {
   "cell_type": "code",
   "execution_count": 95,
   "metadata": {},
   "outputs": [],
   "source": [
    "#Number of nodes in respective time step i = i+1\n",
    "# for ex Nth time step will have N+1 time steps\n",
    "for j in range(N+1):\n",
    "    C[N][j] = max( S*(u**j)*(d**(N-j)) - K, 0)\n",
    "        \n",
    "for i in range(N-1, -1, -1):\n",
    "    for j in range(i+1):\n",
    "        C[i][j] = np.exp(-r * dt)*( p*C[i+1][j+1] + (1-p)*C[i+1][j] )"
   ]
  },
  {
   "cell_type": "code",
   "execution_count": 96,
   "metadata": {},
   "outputs": [
    {
     "data": {
      "text/plain": [
       "42.25754179152137"
      ]
     },
     "execution_count": 96,
     "metadata": {},
     "output_type": "execute_result"
    }
   ],
   "source": [
    "C[0][0]"
   ]
  }
 ],
 "metadata": {
  "kernelspec": {
   "display_name": "Python 3",
   "language": "python",
   "name": "python3"
  },
  "language_info": {
   "codemirror_mode": {
    "name": "ipython",
    "version": 3
   },
   "file_extension": ".py",
   "mimetype": "text/x-python",
   "name": "python",
   "nbconvert_exporter": "python",
   "pygments_lexer": "ipython3",
   "version": "3.7.0"
  }
 },
 "nbformat": 4,
 "nbformat_minor": 2
}
