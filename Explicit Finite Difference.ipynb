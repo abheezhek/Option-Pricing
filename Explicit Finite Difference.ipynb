{
 "cells": [
  {
   "cell_type": "code",
   "execution_count": 93,
   "metadata": {},
   "outputs": [],
   "source": [
    "import numpy as np\n",
    "import pandas as pd\n",
    "import matplotlib.pyplot as plt"
   ]
  },
  {
   "cell_type": "code",
   "execution_count": 111,
   "metadata": {},
   "outputs": [],
   "source": [
    "Vol = 0.2\n",
    "Irate = 0.05\n",
    "Strike = 100\n",
    "Expiration = 1\n",
    "Option = 'P'\n",
    "EarlyExp = 'N'      #American (Y) or European option \n",
    "NAS = 20\n",
    "\n",
    "dS = 2 * Strike / NAS\n",
    "dt = 0.9 / NAS / NAS / Vol / Vol             #for model to be stable dt <= 1/NAS/NAS/Vol/Vol\n",
    "NTS = int(Expiration / dt) + 1\n",
    "dt = Expiration / NTS"
   ]
  },
  {
   "cell_type": "code",
   "execution_count": 112,
   "metadata": {},
   "outputs": [],
   "source": [
    "#condition to check call or put\n",
    "q = 1\n",
    "if Option == 'p' or Option == 'P': \n",
    "    q = -1"
   ]
  },
  {
   "cell_type": "code",
   "execution_count": 113,
   "metadata": {},
   "outputs": [],
   "source": [
    "S = []\n",
    "VOld = []\n",
    "Payoff = []\n",
    "for i in range(NAS+1):\n",
    "    S.append(i * dS)\n",
    "    VOld.append(np.maximum(q * (S[i] - Strike), 0))\n",
    "    Payoff.append(VOld[i]) # Payoff"
   ]
  },
  {
   "cell_type": "code",
   "execution_count": 114,
   "metadata": {},
   "outputs": [],
   "source": [
    "for k in range(NTS):\n",
    "    VNew = []\n",
    "    temp = []\n",
    "    for i in range(1,NAS): # 1 to 19 when NAS = 20\n",
    "        Delta = (VOld[i + 1] - VOld[i - 1])/(2 * dS)\n",
    "        Gamma = (VOld[i + 1] - 2 * VOld[i] + VOld[i - 1])/(dS**2)\n",
    "        Theta = -0.5 * Vol * Vol * S[i] * S[i] * Gamma - Irate * S[i] * Delta + Irate * VOld[i] #   BSE\n",
    "        temp.append(VOld[i] - dt * Theta)\n",
    "   \n",
    "\n",
    "    VNew = [VOld[0] * (1 - Irate * dt)]  + temp # append an element in the beginning use [element] + old\n",
    "    VNew.append( VNew[NAS - 1] +  (VNew[NAS - 1] - VNew[NAS - 2]))  # Gamma=0 at S=infinity\n",
    "    \n",
    "    for i in range(NAS+1):\n",
    "        VOld[i] = VNew[i]\n",
    "    \n",
    "    if EarlyExp == 'Y':\n",
    "        for i in range(NAS +1):\n",
    "            VOld[i] = np.maximum(VOld[i], Payoff[i])"
   ]
  },
  {
   "cell_type": "code",
   "execution_count": 115,
   "metadata": {},
   "outputs": [],
   "source": [
    "OptValue = []\n",
    "for i in range(NAS+1):\n",
    "    OptValue.append(VOld[i])"
   ]
  },
  {
   "cell_type": "code",
   "execution_count": 117,
   "metadata": {},
   "outputs": [
    {
     "data": {
      "image/png": "[encoded data removed]",
      "text/plain": [
       "<Figure size 720x360 with 1 Axes>"
      ]
     },
     "metadata": {
      "needs_background": "light"
     },
     "output_type": "display_data"
    }
   ],
   "source": [
    "OpTyp = 'Call'\n",
    "if Option == 'P' or Option == 'p':\n",
    "    OpTyp = 'Put'\n",
    "\n",
    "#plot discounted Convergence vs number of iterations\n",
    "plt.rcParams.update({'font.size': 15})\n",
    "plt.figure(figsize=(10,5))\n",
    "#plt.grid(True)\n",
    "plt.plot(S,OptValue,lw=1)\n",
    "plt.plot(S,Payoff,lw=1)\n",
    "plt.xlabel('Index Price')\n",
    "plt.ylabel('{} Option price'.format(OpTyp));"
   ]
  },
  {
   "cell_type": "code",
   "execution_count": null,
   "metadata": {},
   "outputs": [],
   "source": []
  }
 ],
 "metadata": {
  "kernelspec": {
   "display_name": "Python 3",
   "language": "python",
   "name": "python3"
  },
  "language_info": {
   "codemirror_mode": {
    "name": "ipython",
    "version": 3
   },
   "file_extension": ".py",
   "mimetype": "text/x-python",
   "name": "python",
   "nbconvert_exporter": "python",
   "pygments_lexer": "ipython3",
   "version": "3.7.0"
  }
 },
 "nbformat": 4,
 "nbformat_minor": 2
}
